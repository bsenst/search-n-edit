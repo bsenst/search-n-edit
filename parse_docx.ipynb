{
 "cells": [
  {
   "cell_type": "code",
   "execution_count": null,
   "metadata": {},
   "outputs": [],
   "source": [
    "# ! pip install python-docx\n",
    "from docx import Document\n",
    "import numpy as np\n",
    "import pandas as pd\n",
    "from sklearn.preprocessing import OneHotEncoder"
   ]
  },
  {
   "cell_type": "code",
   "execution_count": null,
   "metadata": {},
   "outputs": [],
   "source": [
    "# download the documents from https://tbinternet.ohchr.org/_layouts/15/treatybodyexternal/Download.aspx?symbolno=CERD%2FC%2FURY%2FCO%2F21-23&Lang=en\n",
    "\n",
    "# document = Document('G1700516.docx') # spanish\n",
    "# document = Document('G1700517.docx') # arabic - parsing error\n",
    "# document = Document('G1700518.docx') # chinese - parsing error\n",
    "document = Document('G1700519.docx') # englisch\n",
    "# document = Document('G1700520.docx') # french - parsing error\n",
    "# document = Document('G1700521.docx') # russian - parsing error\n",
    "sections = document.sections\n",
    "len(sections)"
   ]
  },
  {
   "cell_type": "code",
   "execution_count": null,
   "metadata": {},
   "outputs": [],
   "source": [
    "paragraphs = document.paragraphs\n",
    "len(paragraphs)"
   ]
  },
  {
   "cell_type": "code",
   "execution_count": null,
   "metadata": {},
   "outputs": [],
   "source": [
    "paragraphs[0].style.name"
   ]
  },
  {
   "cell_type": "code",
   "execution_count": null,
   "metadata": {},
   "outputs": [],
   "source": [
    "df = pd.DataFrame()\n",
    "df[\"styles\"] = [p.style.name for p in paragraphs]\n",
    "df[\"texts\"] = [p.text for p in paragraphs]\n",
    "df.head()"
   ]
  },
  {
   "cell_type": "code",
   "execution_count": null,
   "metadata": {},
   "outputs": [],
   "source": [
    "df.styles.value_counts()"
   ]
  },
  {
   "cell_type": "code",
   "execution_count": null,
   "metadata": {},
   "outputs": [],
   "source": [
    "enc = OneHotEncoder(handle_unknown='ignore')\n",
    "enc.fit(df.styles.to_numpy().reshape(-1, 1))\n",
    "enc.categories_"
   ]
  },
  {
   "cell_type": "code",
   "execution_count": null,
   "metadata": {},
   "outputs": [],
   "source": [
    "tmp = pd.DataFrame(enc.transform(df.styles.to_numpy().reshape(-1, 1)).toarray().astype(int))\n",
    "tmp = pd.merge(df, tmp, left_index=True, right_index=True)\n",
    "# columns=enc.categories_\n",
    "df = tmp.rename(columns={i: enc.categories_[0][i] for i in range(len(enc.categories_[0]))})\n",
    "df.head()"
   ]
  },
  {
   "cell_type": "code",
   "execution_count": null,
   "metadata": {},
   "outputs": [],
   "source": [
    "topheaders = []\n",
    "superheaders = []\n",
    "headers = []\n",
    "subheaders = []\n",
    "texts = []\n",
    "\n",
    "topheader = np.nan\n",
    "superheader = np.nan\n",
    "header = np.nan\n",
    "subheader = np.nan\n",
    "text = \"\"\n",
    "\n",
    "for i in range(len(df)-1):\n",
    "    if df[\"Normal\"][i]==1:\n",
    "        topheader = df[\"texts\"][i].lstrip('\\t')\n",
    "    elif df[\"_ H _Ch_G\"][i]==1:\n",
    "        superheader = df[\"texts\"][i].lstrip('\\t')\n",
    "    elif df[\"_ H_1_G\"][i]==1:\n",
    "        header = df[\"texts\"][i].lstrip('\\t')\n",
    "    elif df[\"_ H_2/3_G\"][i]==1:\n",
    "        subheader = df[\"texts\"][i].lstrip('\\t')\n",
    "    elif df[\"_ Single Txt_G\"][i]==1:\n",
    "        tmp = df[\"texts\"][i].lstrip('\\t')\n",
    "        if tmp.startswith(\"(\"):\n",
    "            text += tmp\n",
    "        else:\n",
    "            topheaders.append(topheader)\n",
    "            superheaders.append(superheader)\n",
    "            headers.append(header)\n",
    "            subheaders.append(subheader)\n",
    "            texts.append(text)\n",
    "            text = tmp\n",
    "    else:\n",
    "        print(i)"
   ]
  },
  {
   "cell_type": "code",
   "execution_count": null,
   "metadata": {},
   "outputs": [],
   "source": [
    "df = pd.DataFrame([topheaders, superheaders, headers, subheaders, texts]).T\n",
    "df.head()"
   ]
  },
  {
   "cell_type": "code",
   "execution_count": null,
   "metadata": {},
   "outputs": [],
   "source": [
    "columns = [\"topheader\", \"superheader\", \"header\", \"subheader\", \"text\"]\n",
    "df = df.rename(columns={i: columns[i] for i in range(len(enc.categories_[0]))})\n",
    "df.head()"
   ]
  },
  {
   "cell_type": "code",
   "execution_count": null,
   "metadata": {},
   "outputs": [],
   "source": [
    "df.to_csv(\"parsed_docx.csv\", sep=\"#\")"
   ]
  }
 ],
 "metadata": {
  "kernelspec": {
   "display_name": "Python 3",
   "language": "python",
   "name": "python3"
  },
  "language_info": {
   "codemirror_mode": {
    "name": "ipython",
    "version": 3
   },
   "file_extension": ".py",
   "mimetype": "text/x-python",
   "name": "python",
   "nbconvert_exporter": "python",
   "pygments_lexer": "ipython3",
   "version": "3.10.12"
  },
  "orig_nbformat": 4
 },
 "nbformat": 4,
 "nbformat_minor": 2
}
