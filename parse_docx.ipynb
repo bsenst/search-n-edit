{
 "cells": [
  {
   "cell_type": "code",
   "execution_count": 80,
   "metadata": {},
   "outputs": [],
   "source": [
    "# ! pip install python-docx\n",
    "from docx import Document\n",
    "import numpy as np\n",
    "import pandas as pd\n",
    "from sklearn.preprocessing import OneHotEncoder"
   ]
  },
  {
   "cell_type": "code",
   "execution_count": 6,
   "metadata": {},
   "outputs": [
    {
     "data": {
      "text/plain": [
       "1"
      ]
     },
     "execution_count": 6,
     "metadata": {},
     "output_type": "execute_result"
    }
   ],
   "source": [
    "document = Document('G1700519.docx')\n",
    "sections = document.sections\n",
    "len(sections)"
   ]
  },
  {
   "cell_type": "code",
   "execution_count": 9,
   "metadata": {},
   "outputs": [
    {
     "data": {
      "text/plain": [
       "96"
      ]
     },
     "execution_count": 9,
     "metadata": {},
     "output_type": "execute_result"
    }
   ],
   "source": [
    "paragraphs = document.paragraphs\n",
    "len(paragraphs)"
   ]
  },
  {
   "cell_type": "code",
   "execution_count": 92,
   "metadata": {},
   "outputs": [
    {
     "data": {
      "text/plain": [
       "'Normal'"
      ]
     },
     "execution_count": 92,
     "metadata": {},
     "output_type": "execute_result"
    }
   ],
   "source": [
    "paragraphs[0].style.name"
   ]
  },
  {
   "cell_type": "code",
   "execution_count": 132,
   "metadata": {},
   "outputs": [
    {
     "data": {
      "text/html": [
       "<div>\n",
       "<style scoped>\n",
       "    .dataframe tbody tr th:only-of-type {\n",
       "        vertical-align: middle;\n",
       "    }\n",
       "\n",
       "    .dataframe tbody tr th {\n",
       "        vertical-align: top;\n",
       "    }\n",
       "\n",
       "    .dataframe thead th {\n",
       "        text-align: right;\n",
       "    }\n",
       "</style>\n",
       "<table border=\"1\" class=\"dataframe\">\n",
       "  <thead>\n",
       "    <tr style=\"text-align: right;\">\n",
       "      <th></th>\n",
       "      <th>styles</th>\n",
       "      <th>texts</th>\n",
       "    </tr>\n",
       "  </thead>\n",
       "  <tbody>\n",
       "    <tr>\n",
       "      <th>0</th>\n",
       "      <td>Normal</td>\n",
       "      <td>Committee on the Elimination of Racial Discrim...</td>\n",
       "    </tr>\n",
       "    <tr>\n",
       "      <th>1</th>\n",
       "      <td>_ H _Ch_G</td>\n",
       "      <td>\\t\\tConcluding observations on the combined tw...</td>\n",
       "    </tr>\n",
       "    <tr>\n",
       "      <th>2</th>\n",
       "      <td>_ Single Txt_G</td>\n",
       "      <td>1.\\tThe Committee on the Elimination of Racial...</td>\n",
       "    </tr>\n",
       "    <tr>\n",
       "      <th>3</th>\n",
       "      <td>_ H_1_G</td>\n",
       "      <td>\\tA.\\tIntroduction</td>\n",
       "    </tr>\n",
       "    <tr>\n",
       "      <th>4</th>\n",
       "      <td>_ Single Txt_G</td>\n",
       "      <td>2.\\tThe Committee welcomes the presentation of...</td>\n",
       "    </tr>\n",
       "  </tbody>\n",
       "</table>\n",
       "</div>"
      ],
      "text/plain": [
       "           styles                                              texts\n",
       "0          Normal  Committee on the Elimination of Racial Discrim...\n",
       "1       _ H _Ch_G  \\t\\tConcluding observations on the combined tw...\n",
       "2  _ Single Txt_G  1.\\tThe Committee on the Elimination of Racial...\n",
       "3         _ H_1_G                                 \\tA.\\tIntroduction\n",
       "4  _ Single Txt_G  2.\\tThe Committee welcomes the presentation of..."
      ]
     },
     "execution_count": 132,
     "metadata": {},
     "output_type": "execute_result"
    }
   ],
   "source": [
    "df = pd.DataFrame()\n",
    "df[\"styles\"] = [p.style.name for p in paragraphs]\n",
    "df[\"texts\"] = [p.text for p in paragraphs]\n",
    "df.head()"
   ]
  },
  {
   "cell_type": "code",
   "execution_count": 133,
   "metadata": {},
   "outputs": [
    {
     "data": {
      "text/plain": [
       "_ Single Txt_G    67\n",
       "_ H_2/3_G         22\n",
       "_ H_1_G            4\n",
       "Normal             2\n",
       "_ H _Ch_G          1\n",
       "Name: styles, dtype: int64"
      ]
     },
     "execution_count": 133,
     "metadata": {},
     "output_type": "execute_result"
    }
   ],
   "source": [
    "df.styles.value_counts()"
   ]
  },
  {
   "cell_type": "code",
   "execution_count": 134,
   "metadata": {},
   "outputs": [
    {
     "data": {
      "text/plain": [
       "[array(['Normal', '_ H _Ch_G', '_ H_1_G', '_ H_2/3_G', '_ Single Txt_G'],\n",
       "       dtype=object)]"
      ]
     },
     "execution_count": 134,
     "metadata": {},
     "output_type": "execute_result"
    }
   ],
   "source": [
    "enc = OneHotEncoder(handle_unknown='ignore')\n",
    "enc.fit(df.styles.to_numpy().reshape(-1, 1))\n",
    "enc.categories_"
   ]
  },
  {
   "cell_type": "code",
   "execution_count": 135,
   "metadata": {},
   "outputs": [
    {
     "data": {
      "text/html": [
       "<div>\n",
       "<style scoped>\n",
       "    .dataframe tbody tr th:only-of-type {\n",
       "        vertical-align: middle;\n",
       "    }\n",
       "\n",
       "    .dataframe tbody tr th {\n",
       "        vertical-align: top;\n",
       "    }\n",
       "\n",
       "    .dataframe thead th {\n",
       "        text-align: right;\n",
       "    }\n",
       "</style>\n",
       "<table border=\"1\" class=\"dataframe\">\n",
       "  <thead>\n",
       "    <tr style=\"text-align: right;\">\n",
       "      <th></th>\n",
       "      <th>styles</th>\n",
       "      <th>texts</th>\n",
       "      <th>Normal</th>\n",
       "      <th>_ H _Ch_G</th>\n",
       "      <th>_ H_1_G</th>\n",
       "      <th>_ H_2/3_G</th>\n",
       "      <th>_ Single Txt_G</th>\n",
       "    </tr>\n",
       "  </thead>\n",
       "  <tbody>\n",
       "    <tr>\n",
       "      <th>0</th>\n",
       "      <td>Normal</td>\n",
       "      <td>Committee on the Elimination of Racial Discrim...</td>\n",
       "      <td>1</td>\n",
       "      <td>0</td>\n",
       "      <td>0</td>\n",
       "      <td>0</td>\n",
       "      <td>0</td>\n",
       "    </tr>\n",
       "    <tr>\n",
       "      <th>1</th>\n",
       "      <td>_ H _Ch_G</td>\n",
       "      <td>\\t\\tConcluding observations on the combined tw...</td>\n",
       "      <td>0</td>\n",
       "      <td>1</td>\n",
       "      <td>0</td>\n",
       "      <td>0</td>\n",
       "      <td>0</td>\n",
       "    </tr>\n",
       "    <tr>\n",
       "      <th>2</th>\n",
       "      <td>_ Single Txt_G</td>\n",
       "      <td>1.\\tThe Committee on the Elimination of Racial...</td>\n",
       "      <td>0</td>\n",
       "      <td>0</td>\n",
       "      <td>0</td>\n",
       "      <td>0</td>\n",
       "      <td>1</td>\n",
       "    </tr>\n",
       "    <tr>\n",
       "      <th>3</th>\n",
       "      <td>_ H_1_G</td>\n",
       "      <td>\\tA.\\tIntroduction</td>\n",
       "      <td>0</td>\n",
       "      <td>0</td>\n",
       "      <td>1</td>\n",
       "      <td>0</td>\n",
       "      <td>0</td>\n",
       "    </tr>\n",
       "    <tr>\n",
       "      <th>4</th>\n",
       "      <td>_ Single Txt_G</td>\n",
       "      <td>2.\\tThe Committee welcomes the presentation of...</td>\n",
       "      <td>0</td>\n",
       "      <td>0</td>\n",
       "      <td>0</td>\n",
       "      <td>0</td>\n",
       "      <td>1</td>\n",
       "    </tr>\n",
       "  </tbody>\n",
       "</table>\n",
       "</div>"
      ],
      "text/plain": [
       "           styles                                              texts  Normal  \\\n",
       "0          Normal  Committee on the Elimination of Racial Discrim...       1   \n",
       "1       _ H _Ch_G  \\t\\tConcluding observations on the combined tw...       0   \n",
       "2  _ Single Txt_G  1.\\tThe Committee on the Elimination of Racial...       0   \n",
       "3         _ H_1_G                                 \\tA.\\tIntroduction       0   \n",
       "4  _ Single Txt_G  2.\\tThe Committee welcomes the presentation of...       0   \n",
       "\n",
       "   _ H _Ch_G  _ H_1_G  _ H_2/3_G  _ Single Txt_G  \n",
       "0          0        0          0               0  \n",
       "1          1        0          0               0  \n",
       "2          0        0          0               1  \n",
       "3          0        1          0               0  \n",
       "4          0        0          0               1  "
      ]
     },
     "execution_count": 135,
     "metadata": {},
     "output_type": "execute_result"
    }
   ],
   "source": [
    "tmp = pd.DataFrame(enc.transform(df.styles.to_numpy().reshape(-1, 1)).toarray().astype(int))\n",
    "tmp = pd.merge(df, tmp, left_index=True, right_index=True)\n",
    "# columns=enc.categories_\n",
    "df = tmp.rename(columns={i: enc.categories_[0][i] for i in range(len(enc.categories_[0]))})\n",
    "df.head()"
   ]
  },
  {
   "cell_type": "code",
   "execution_count": 136,
   "metadata": {},
   "outputs": [],
   "source": [
    "topheaders = []\n",
    "superheaders = []\n",
    "headers = []\n",
    "subheaders = []\n",
    "texts = []\n",
    "\n",
    "topheader = np.nan\n",
    "superheader = np.nan\n",
    "header = np.nan\n",
    "subheader = np.nan\n",
    "text = \"\"\n",
    "\n",
    "for i in range(len(df)-1):\n",
    "    if df[\"Normal\"][i]==1:\n",
    "        topheader = df[\"texts\"][i].lstrip('\\t')\n",
    "    elif df[\"_ H _Ch_G\"][i]==1:\n",
    "        superheader = df[\"texts\"][i].lstrip('\\t')\n",
    "    elif df[\"_ H_1_G\"][i]==1:\n",
    "        header = df[\"texts\"][i].lstrip('\\t')\n",
    "    elif df[\"_ H_2/3_G\"][i]==1:\n",
    "        subheader = df[\"texts\"][i].lstrip('\\t')\n",
    "    elif df[\"_ Single Txt_G\"][i]==1:\n",
    "        tmp = df[\"texts\"][i].lstrip('\\t')\n",
    "        if tmp.startswith(\"(\"):\n",
    "            text += tmp\n",
    "        else:\n",
    "            topheaders.append(topheader)\n",
    "            superheaders.append(superheader)\n",
    "            headers.append(header)\n",
    "            subheaders.append(subheader)\n",
    "            texts.append(text)\n",
    "            text = tmp\n",
    "    else:\n",
    "        print(i)"
   ]
  },
  {
   "cell_type": "code",
   "execution_count": 137,
   "metadata": {},
   "outputs": [
    {
     "data": {
      "text/html": [
       "<div>\n",
       "<style scoped>\n",
       "    .dataframe tbody tr th:only-of-type {\n",
       "        vertical-align: middle;\n",
       "    }\n",
       "\n",
       "    .dataframe tbody tr th {\n",
       "        vertical-align: top;\n",
       "    }\n",
       "\n",
       "    .dataframe thead th {\n",
       "        text-align: right;\n",
       "    }\n",
       "</style>\n",
       "<table border=\"1\" class=\"dataframe\">\n",
       "  <thead>\n",
       "    <tr style=\"text-align: right;\">\n",
       "      <th></th>\n",
       "      <th>0</th>\n",
       "      <th>1</th>\n",
       "      <th>2</th>\n",
       "      <th>3</th>\n",
       "      <th>4</th>\n",
       "    </tr>\n",
       "  </thead>\n",
       "  <tbody>\n",
       "    <tr>\n",
       "      <th>0</th>\n",
       "      <td>Committee on the Elimination of Racial Discrim...</td>\n",
       "      <td>Concluding observations on the combined twenty...</td>\n",
       "      <td>NaN</td>\n",
       "      <td>NaN</td>\n",
       "      <td></td>\n",
       "    </tr>\n",
       "    <tr>\n",
       "      <th>1</th>\n",
       "      <td>Committee on the Elimination of Racial Discrim...</td>\n",
       "      <td>Concluding observations on the combined twenty...</td>\n",
       "      <td>A.\\tIntroduction</td>\n",
       "      <td>NaN</td>\n",
       "      <td>1.\\tThe Committee on the Elimination of Racial...</td>\n",
       "    </tr>\n",
       "    <tr>\n",
       "      <th>2</th>\n",
       "      <td>Committee on the Elimination of Racial Discrim...</td>\n",
       "      <td>Concluding observations on the combined twenty...</td>\n",
       "      <td>A.\\tIntroduction</td>\n",
       "      <td>NaN</td>\n",
       "      <td>2.\\tThe Committee welcomes the presentation of...</td>\n",
       "    </tr>\n",
       "    <tr>\n",
       "      <th>3</th>\n",
       "      <td>Committee on the Elimination of Racial Discrim...</td>\n",
       "      <td>Concluding observations on the combined twenty...</td>\n",
       "      <td>B.\\tPositive aspects</td>\n",
       "      <td>NaN</td>\n",
       "      <td>3.\\tThe Committee also welcomes the presentati...</td>\n",
       "    </tr>\n",
       "    <tr>\n",
       "      <th>4</th>\n",
       "      <td>Committee on the Elimination of Racial Discrim...</td>\n",
       "      <td>Concluding observations on the combined twenty...</td>\n",
       "      <td>B.\\tPositive aspects</td>\n",
       "      <td>NaN</td>\n",
       "      <td>4.\\tThe Committee welcomes the State party’s r...</td>\n",
       "    </tr>\n",
       "  </tbody>\n",
       "</table>\n",
       "</div>"
      ],
      "text/plain": [
       "                                                   0  \\\n",
       "0  Committee on the Elimination of Racial Discrim...   \n",
       "1  Committee on the Elimination of Racial Discrim...   \n",
       "2  Committee on the Elimination of Racial Discrim...   \n",
       "3  Committee on the Elimination of Racial Discrim...   \n",
       "4  Committee on the Elimination of Racial Discrim...   \n",
       "\n",
       "                                                   1                      2  \\\n",
       "0  Concluding observations on the combined twenty...                    NaN   \n",
       "1  Concluding observations on the combined twenty...       A.\\tIntroduction   \n",
       "2  Concluding observations on the combined twenty...       A.\\tIntroduction   \n",
       "3  Concluding observations on the combined twenty...  B.\\tPositive aspects    \n",
       "4  Concluding observations on the combined twenty...  B.\\tPositive aspects    \n",
       "\n",
       "     3                                                  4  \n",
       "0  NaN                                                     \n",
       "1  NaN  1.\\tThe Committee on the Elimination of Racial...  \n",
       "2  NaN  2.\\tThe Committee welcomes the presentation of...  \n",
       "3  NaN  3.\\tThe Committee also welcomes the presentati...  \n",
       "4  NaN  4.\\tThe Committee welcomes the State party’s r...  "
      ]
     },
     "execution_count": 137,
     "metadata": {},
     "output_type": "execute_result"
    }
   ],
   "source": [
    "df = pd.DataFrame([topheaders, superheaders, headers, subheaders, texts]).T\n",
    "df.head()"
   ]
  },
  {
   "cell_type": "code",
   "execution_count": 138,
   "metadata": {},
   "outputs": [
    {
     "data": {
      "text/html": [
       "<div>\n",
       "<style scoped>\n",
       "    .dataframe tbody tr th:only-of-type {\n",
       "        vertical-align: middle;\n",
       "    }\n",
       "\n",
       "    .dataframe tbody tr th {\n",
       "        vertical-align: top;\n",
       "    }\n",
       "\n",
       "    .dataframe thead th {\n",
       "        text-align: right;\n",
       "    }\n",
       "</style>\n",
       "<table border=\"1\" class=\"dataframe\">\n",
       "  <thead>\n",
       "    <tr style=\"text-align: right;\">\n",
       "      <th></th>\n",
       "      <th>topheader</th>\n",
       "      <th>superheader</th>\n",
       "      <th>header</th>\n",
       "      <th>subheader</th>\n",
       "      <th>text</th>\n",
       "    </tr>\n",
       "  </thead>\n",
       "  <tbody>\n",
       "    <tr>\n",
       "      <th>0</th>\n",
       "      <td>Committee on the Elimination of Racial Discrim...</td>\n",
       "      <td>Concluding observations on the combined twenty...</td>\n",
       "      <td>NaN</td>\n",
       "      <td>NaN</td>\n",
       "      <td></td>\n",
       "    </tr>\n",
       "    <tr>\n",
       "      <th>1</th>\n",
       "      <td>Committee on the Elimination of Racial Discrim...</td>\n",
       "      <td>Concluding observations on the combined twenty...</td>\n",
       "      <td>A.\\tIntroduction</td>\n",
       "      <td>NaN</td>\n",
       "      <td>1.\\tThe Committee on the Elimination of Racial...</td>\n",
       "    </tr>\n",
       "    <tr>\n",
       "      <th>2</th>\n",
       "      <td>Committee on the Elimination of Racial Discrim...</td>\n",
       "      <td>Concluding observations on the combined twenty...</td>\n",
       "      <td>A.\\tIntroduction</td>\n",
       "      <td>NaN</td>\n",
       "      <td>2.\\tThe Committee welcomes the presentation of...</td>\n",
       "    </tr>\n",
       "    <tr>\n",
       "      <th>3</th>\n",
       "      <td>Committee on the Elimination of Racial Discrim...</td>\n",
       "      <td>Concluding observations on the combined twenty...</td>\n",
       "      <td>B.\\tPositive aspects</td>\n",
       "      <td>NaN</td>\n",
       "      <td>3.\\tThe Committee also welcomes the presentati...</td>\n",
       "    </tr>\n",
       "    <tr>\n",
       "      <th>4</th>\n",
       "      <td>Committee on the Elimination of Racial Discrim...</td>\n",
       "      <td>Concluding observations on the combined twenty...</td>\n",
       "      <td>B.\\tPositive aspects</td>\n",
       "      <td>NaN</td>\n",
       "      <td>4.\\tThe Committee welcomes the State party’s r...</td>\n",
       "    </tr>\n",
       "  </tbody>\n",
       "</table>\n",
       "</div>"
      ],
      "text/plain": [
       "                                           topheader  \\\n",
       "0  Committee on the Elimination of Racial Discrim...   \n",
       "1  Committee on the Elimination of Racial Discrim...   \n",
       "2  Committee on the Elimination of Racial Discrim...   \n",
       "3  Committee on the Elimination of Racial Discrim...   \n",
       "4  Committee on the Elimination of Racial Discrim...   \n",
       "\n",
       "                                         superheader                 header  \\\n",
       "0  Concluding observations on the combined twenty...                    NaN   \n",
       "1  Concluding observations on the combined twenty...       A.\\tIntroduction   \n",
       "2  Concluding observations on the combined twenty...       A.\\tIntroduction   \n",
       "3  Concluding observations on the combined twenty...  B.\\tPositive aspects    \n",
       "4  Concluding observations on the combined twenty...  B.\\tPositive aspects    \n",
       "\n",
       "  subheader                                               text  \n",
       "0       NaN                                                     \n",
       "1       NaN  1.\\tThe Committee on the Elimination of Racial...  \n",
       "2       NaN  2.\\tThe Committee welcomes the presentation of...  \n",
       "3       NaN  3.\\tThe Committee also welcomes the presentati...  \n",
       "4       NaN  4.\\tThe Committee welcomes the State party’s r...  "
      ]
     },
     "execution_count": 138,
     "metadata": {},
     "output_type": "execute_result"
    }
   ],
   "source": [
    "columns = [\"topheader\", \"superheader\", \"header\", \"subheader\", \"text\"]\n",
    "df = df.rename(columns={i: columns[i] for i in range(len(enc.categories_[0]))})\n",
    "df.head()"
   ]
  },
  {
   "cell_type": "code",
   "execution_count": 139,
   "metadata": {},
   "outputs": [],
   "source": [
    "df.to_csv(\"parsed_docx.csv\", sep=\"#\")"
   ]
  }
 ],
 "metadata": {
  "kernelspec": {
   "display_name": "Python 3",
   "language": "python",
   "name": "python3"
  },
  "language_info": {
   "codemirror_mode": {
    "name": "ipython",
    "version": 3
   },
   "file_extension": ".py",
   "mimetype": "text/x-python",
   "name": "python",
   "nbconvert_exporter": "python",
   "pygments_lexer": "ipython3",
   "version": "3.10.12"
  },
  "orig_nbformat": 4
 },
 "nbformat": 4,
 "nbformat_minor": 2
}
